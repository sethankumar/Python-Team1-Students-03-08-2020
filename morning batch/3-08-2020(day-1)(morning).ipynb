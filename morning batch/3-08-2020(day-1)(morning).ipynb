{
 "cells": [
  {
   "cell_type": "markdown",
   "metadata": {},
   "source": [
    "### Day Objectives:\n",
    "- Installtion\n",
    "- Python Introduction\n",
    "- Jupyter Notebook\n",
    "- Markdown Format"
   ]
  },
  {
   "cell_type": "code",
   "execution_count": null,
   "metadata": {},
   "outputs": [],
   "source": [
    "# python introduction:"
   ]
  },
  {
   "cell_type": "code",
   "execution_count": null,
   "metadata": {},
   "outputs": [],
   "source": [
    "# what is python?\n",
    "- python is an simple,genral purpose,intrepreted language,high level,object oriented language.\n",
    "- python is developed by guido van rossum\n",
    "- guido van rossum started implementing python in 1989,and relesed in 1991."
   ]
  },
  {
   "cell_type": "code",
   "execution_count": null,
   "metadata": {},
   "outputs": [],
   "source": [
    "# why python named as python?\n",
    "- the name came from BBC's comedy television show -'Monty python's flying circus'(from 1970's).\n",
    "- as he was a big fan of tht iv show and also he wanted a short,unique and slightly mysterious\n",
    "  name for his invention hence he named it python"
   ]
  },
  {
   "cell_type": "code",
   "execution_count": null,
   "metadata": {},
   "outputs": [],
   "source": [
    "# python Features:\n",
    "1) Easy syntax to learn and use\n",
    "2) Expressive language\n",
    "3) interpreted language-->line by line\n",
    "4) cross-platform language--->equally on different platforms\n",
    "5) free and opensource\n",
    "6) object oriented programming language\n",
    "7) extensible language\n",
    "8) large standard library\n",
    "9) GUI programming support\n",
    "10) Integrated"
   ]
  },
  {
   "cell_type": "code",
   "execution_count": 1,
   "metadata": {},
   "outputs": [
    {
     "name": "stdout",
     "output_type": "stream",
     "text": [
      "hello\n"
     ]
    },
    {
     "ename": "NameError",
     "evalue": "name 'jhsgdhjdsghkjgnglkdj' is not defined",
     "output_type": "error",
     "traceback": [
      "\u001b[1;31m---------------------------------------------------------------------------\u001b[0m",
      "\u001b[1;31mNameError\u001b[0m                                 Traceback (most recent call last)",
      "\u001b[1;32m<ipython-input-1-dfb9a163e22f>\u001b[0m in \u001b[0;36m<module>\u001b[1;34m\u001b[0m\n\u001b[0;32m      1\u001b[0m \u001b[0mprint\u001b[0m\u001b[1;33m(\u001b[0m\u001b[1;34m\"hello\"\u001b[0m\u001b[1;33m)\u001b[0m\u001b[1;33m\u001b[0m\u001b[1;33m\u001b[0m\u001b[0m\n\u001b[1;32m----> 2\u001b[1;33m \u001b[0mjhsgdhjdsghkjgnglkdj\u001b[0m\u001b[1;33m\u001b[0m\u001b[1;33m\u001b[0m\u001b[0m\n\u001b[0m",
      "\u001b[1;31mNameError\u001b[0m: name 'jhsgdhjdsghkjgnglkdj' is not defined"
     ]
    }
   ],
   "source": [
    "print(\"hello\")\n",
    "jhsgdhjdsghkjgnglkdj"
   ]
  },
  {
   "cell_type": "code",
   "execution_count": null,
   "metadata": {},
   "outputs": [],
   "source": [
    "# Applications of python?\n",
    "1)web applications(google,youtube,instagram,drop box.....etc)\n",
    "2)game development\n",
    "3)GUI based applications\n",
    "4)Data Science\n",
    "5)multimedia\n",
    "6)scientific computing\n",
    "7)machine learning\n",
    "8) data analysis\n",
    "9) artificial intelligence\n",
    "10)software development\n",
    "11)business applications\n",
    "12)audio or video based applications\n",
    "13)enterprise applications"
   ]
  },
  {
   "cell_type": "code",
   "execution_count": null,
   "metadata": {},
   "outputs": [],
   "source": [
    "# python versions list\n",
    "- python 1.0 ,jan 1994\n",
    "- python 2.0,oct 2000\n",
    "- python 3.0,dec 2008\n",
    "- python 2.7,july 2010\n",
    "- python 3.8.5,july 2020 (latest version)"
   ]
  },
  {
   "cell_type": "code",
   "execution_count": null,
   "metadata": {},
   "outputs": [],
   "source": []
  },
  {
   "cell_type": "code",
   "execution_count": null,
   "metadata": {},
   "outputs": [],
   "source": [
    "# idle\n",
    "- shell (single lines of code)(enter)\n",
    "- script file(.py) (f5 ,run module)"
   ]
  },
  {
   "cell_type": "code",
   "execution_count": null,
   "metadata": {},
   "outputs": [],
   "source": [
    "- code(programs)\n",
    "- markdown(theory)"
   ]
  },
  {
   "cell_type": "code",
   "execution_count": null,
   "metadata": {},
   "outputs": [],
   "source": [
    "b-below\n",
    "a-above\n",
    "m-markdown\n",
    "code-(shift+enter)\n",
    "cntrl+z\n",
    "cntrl+y"
   ]
  },
  {
   "cell_type": "markdown",
   "metadata": {},
   "source": []
  },
  {
   "cell_type": "code",
   "execution_count": 6,
   "metadata": {},
   "outputs": [
    {
     "name": "stdout",
     "output_type": "stream",
     "text": [
      "python workshop\n"
     ]
    }
   ],
   "source": [
    "print(\"python workshop\")"
   ]
  },
  {
   "cell_type": "code",
   "execution_count": 3,
   "metadata": {},
   "outputs": [
    {
     "name": "stdout",
     "output_type": "stream",
     "text": [
      "hellopoooooo\n"
     ]
    }
   ],
   "source": [
    "print(\"python workshop\")"
   ]
  },
  {
   "cell_type": "code",
   "execution_count": null,
   "metadata": {},
   "outputs": [],
   "source": [
    "h1,h2,h3,h4,h5,h6"
   ]
  },
  {
   "cell_type": "markdown",
   "metadata": {},
   "source": [
    "# heading\n",
    "## heading\n",
    "### heading\n",
    "#### heading\n",
    "##### heading\n",
    "###### heading\n",
    "####### heading"
   ]
  },
  {
   "cell_type": "markdown",
   "metadata": {},
   "source": [
    "* **bold**\n",
    "* *italic*"
   ]
  },
  {
   "cell_type": "markdown",
   "metadata": {},
   "source": [
    "* Noramal text\n",
    "    * sub list1\n",
    "    * sub list2"
   ]
  },
  {
   "cell_type": "markdown",
   "metadata": {},
   "source": [
    "1. ordered lsit1\n",
    "2. ordered list2"
   ]
  },
  {
   "cell_type": "code",
   "execution_count": null,
   "metadata": {},
   "outputs": [],
   "source": []
  }
 ],
 "metadata": {
  "kernelspec": {
   "display_name": "Python 3",
   "language": "python",
   "name": "python3"
  },
  "language_info": {
   "codemirror_mode": {
    "name": "ipython",
    "version": 3
   },
   "file_extension": ".py",
   "mimetype": "text/x-python",
   "name": "python",
   "nbconvert_exporter": "python",
   "pygments_lexer": "ipython3",
   "version": "3.7.3"
  }
 },
 "nbformat": 4,
 "nbformat_minor": 2
}
